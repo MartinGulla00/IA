{
 "cells": [
  {
   "cell_type": "code",
   "execution_count": 13,
   "metadata": {},
   "outputs": [],
   "source": [
    "import numpy as np\n",
    "from MountainCarEnv import MountainCarEnv"
   ]
  },
  {
   "cell_type": "code",
   "execution_count": 14,
   "metadata": {},
   "outputs": [],
   "source": [
    "env = MountainCarEnv(render_mode=\"human\")"
   ]
  },
  {
   "cell_type": "code",
   "execution_count": 15,
   "metadata": {},
   "outputs": [],
   "source": [
    "def epsilon_greedy_policy(state, Q, epsilon=0.1):\n",
    "    explore = np.random.binomial(1, epsilon)\n",
    "    if explore:\n",
    "        action = env.action_space.sample()\n",
    "        print('explore')\n",
    "    # exploit\n",
    "    else:\n",
    "        action = np.argmax(Q[state])\n",
    "        print('exploit')\n",
    "    return action"
   ]
  },
  {
   "cell_type": "code",
   "execution_count": 16,
   "metadata": {},
   "outputs": [],
   "source": [
    "def optimal_policy(state, Q):\n",
    "    action = np.argmax(Q[state])\n",
    "    return action"
   ]
  },
  {
   "cell_type": "code",
   "execution_count": 17,
   "metadata": {},
   "outputs": [
    {
     "data": {
      "text/plain": [
       "array([-5.        , -3.88888889, -2.77777778, -1.66666667, -0.55555556,\n",
       "        0.55555556,  1.66666667,  2.77777778,  3.88888889,  5.        ])"
      ]
     },
     "execution_count": 17,
     "metadata": {},
     "output_type": "execute_result"
    }
   ],
   "source": [
    "pos_space = np.linspace(-5, 5, 10)\n",
    "vel_space = np.linspace(-3, 3, 2)\n",
    "pos_space"
   ]
  },
  {
   "cell_type": "code",
   "execution_count": 18,
   "metadata": {},
   "outputs": [],
   "source": [
    "def get_state(obs):\n",
    "    pos, vel = obs\n",
    "    pos_bin = np.digitize(pos, pos_space)\n",
    "    vel_bin = np.digitize(vel, vel_space)\n",
    "    return pos_bin, vel_bin"
   ]
  },
  {
   "cell_type": "code",
   "execution_count": 19,
   "metadata": {},
   "outputs": [
    {
     "data": {
      "text/plain": [
       "(5, 1)"
      ]
     },
     "execution_count": 19,
     "metadata": {},
     "output_type": "execute_result"
    }
   ],
   "source": [
    "state = get_state(np.array([-0.4, 0.2]))\n",
    "state"
   ]
  },
  {
   "cell_type": "code",
   "execution_count": 20,
   "metadata": {},
   "outputs": [
    {
     "data": {
      "text/plain": [
       "[0, 1, 2]"
      ]
     },
     "execution_count": 20,
     "metadata": {},
     "output_type": "execute_result"
    }
   ],
   "source": [
    "actions = list(range(env.action_space.n))\n",
    "actions"
   ]
  },
  {
   "cell_type": "code",
   "execution_count": 21,
   "metadata": {},
   "outputs": [
    {
     "data": {
      "text/plain": [
       "array([[[0., 0., 0.],\n",
       "        [0., 0., 0.],\n",
       "        [0., 0., 0.]],\n",
       "\n",
       "       [[0., 0., 0.],\n",
       "        [0., 0., 0.],\n",
       "        [0., 0., 0.]],\n",
       "\n",
       "       [[0., 0., 0.],\n",
       "        [0., 0., 0.],\n",
       "        [0., 0., 0.]],\n",
       "\n",
       "       [[0., 0., 0.],\n",
       "        [0., 0., 0.],\n",
       "        [0., 0., 0.]],\n",
       "\n",
       "       [[0., 0., 0.],\n",
       "        [0., 0., 0.],\n",
       "        [0., 0., 0.]],\n",
       "\n",
       "       [[0., 0., 0.],\n",
       "        [0., 0., 0.],\n",
       "        [0., 0., 0.]],\n",
       "\n",
       "       [[0., 0., 0.],\n",
       "        [0., 0., 0.],\n",
       "        [0., 0., 0.]],\n",
       "\n",
       "       [[0., 0., 0.],\n",
       "        [0., 0., 0.],\n",
       "        [0., 0., 0.]],\n",
       "\n",
       "       [[0., 0., 0.],\n",
       "        [0., 0., 0.],\n",
       "        [0., 0., 0.]],\n",
       "\n",
       "       [[0., 0., 0.],\n",
       "        [0., 0., 0.],\n",
       "        [0., 0., 0.]],\n",
       "\n",
       "       [[0., 0., 0.],\n",
       "        [0., 0., 0.],\n",
       "        [0., 0., 0.]]])"
      ]
     },
     "execution_count": 21,
     "metadata": {},
     "output_type": "execute_result"
    }
   ],
   "source": [
    "Q = np.zeros((11,3,3))\n",
    "Q"
   ]
  },
  {
   "cell_type": "code",
   "execution_count": 22,
   "metadata": {},
   "outputs": [
    {
     "name": "stdout",
     "output_type": "stream",
     "text": [
      "[-0.59127665  0.        ]\n",
      "exploit\n",
      "-> (4, 1) 0 -1.0 [-5.917725e-01 -4.958963e-04] False\n",
      "explore\n",
      "-> (4, 1) 2 -1.0 [-0.59076065  0.00101185] False\n",
      "exploit\n",
      "-> (4, 1) 0 -1.0 [-5.902485e-01  5.121626e-04] False\n",
      "explore\n",
      "-> (4, 1) 2 -1.0 [-0.5882398   0.00200871] False\n",
      "exploit\n",
      "-> (4, 1) 0 -1.0 [-0.5867493   0.00149049] False\n",
      "explore\n"
     ]
    },
    {
     "name": "stdout",
     "output_type": "stream",
     "text": [
      "-> (4, 1) 1 -1.0 [-0.584788    0.00196129] False\n",
      "explore\n",
      "-> (4, 1) 2 -1.0 [-0.5813704   0.00341763] False\n",
      "explore\n",
      "-> (4, 1) 1 -1.0 [-0.5775216   0.00384875] False\n",
      "explore\n",
      "-> (4, 1) 2 -1.0 [-0.5722702   0.00525141] False\n",
      "exploit\n",
      "-> (4, 1) 0 -1.0 [-0.5676551   0.00461515] False\n",
      "exploit\n",
      "-> (4, 1) 0 -1.0 [-0.56371045  0.00394462] False\n",
      "exploit\n",
      "-> (4, 1) 0 -1.0 [-0.5604657   0.00324473] False\n",
      "exploit\n",
      "-> (4, 1) 0 -1.0 [-0.5579451   0.00252067] False\n",
      "exploit\n",
      "-> (4, 1) 0 -1.0 [-0.55616724  0.00177781] False\n",
      "explore\n",
      "-> (4, 1) 0 -1.0 [-0.55514556  0.00102168] False\n",
      "explore\n",
      "-> (5, 1) 1 -1.0 [-0.5538876   0.00125793] False\n",
      "exploit\n",
      "-> (5, 1) 0 -1.0 [-5.5340284e-01  4.8478460e-04] False\n",
      "exploit\n",
      "-> (5, 1) 0 -1.0 [-5.5369484e-01 -2.9198258e-04] False\n",
      "explore\n",
      "-> (5, 1) 2 -1.0 [-0.5527614   0.00093343] False\n",
      "explore\n",
      "-> (5, 1) 1 -1.0 [-0.5516095   0.00115187] False\n",
      "explore\n",
      "-> (5, 1) 0 -1.0 [-5.5124784e-01  3.6170558e-04] False\n",
      "explore\n",
      "-> (5, 1) 0 -1.0 [-5.5167902e-01 -4.3116428e-04] False\n",
      "explore\n",
      "-> (5, 1) 0 -1.0 [-0.5528998  -0.00122081] False\n",
      "exploit\n",
      "-> (5, 1) 0 -1.0 [-0.5549011  -0.00200134] False\n",
      "explore\n",
      "-> (5, 1) 0 -1.0 [-0.55766803 -0.00276691] False\n",
      "exploit\n",
      "-> (4, 1) 0 -1.0 [-0.5611799  -0.00351184] False\n",
      "explore\n",
      "-> (4, 1) 1 -1.0 [-0.56441045 -0.00323058] False\n",
      "exploit\n",
      "-> (4, 1) 0 -1.0 [-0.5683357  -0.00392525] False\n",
      "explore\n",
      "-> (4, 1) 2 -1.0 [-0.5709264  -0.00259073] False\n",
      "explore\n",
      "-> (4, 1) 0 -1.0 [-0.57416344 -0.00323697] False\n",
      "explore\n",
      "-> (4, 1) 2 -1.0 [-0.5760226  -0.00185919] False\n",
      "exploit\n",
      "-> (4, 1) 0 -1.0 [-0.57849026 -0.00246763] False\n",
      "explore\n",
      "-> (4, 1) 0 -1.0 [-0.58154804 -0.0030578 ] False\n",
      "exploit\n",
      "-> (4, 1) 0 -1.0 [-0.58517337 -0.00362536] False\n",
      "exploit\n",
      "-> (4, 1) 0 -1.0 [-0.58933955 -0.00416618] False\n",
      "exploit\n",
      "-> (4, 1) 0 -1.0 [-0.5940159  -0.00467631] False\n",
      "exploit\n",
      "-> (4, 1) 0 -1.0 [-0.599168  -0.0051521] False\n",
      "exploit\n",
      "-> (4, 1) 0 -1.0 [-0.60475814 -0.00559017] False\n",
      "exploit\n",
      "-> (4, 1) 0 -1.0 [-0.6107456  -0.00598748] False\n",
      "exploit\n",
      "-> (4, 1) 0 -1.0 [-0.61708695 -0.00634129] False\n",
      "explore\n",
      "-> (4, 1) 0 -1.0 [-0.6237362  -0.00664929] False\n",
      "explore\n",
      "-> (4, 1) 2 -1.0 [-0.6286457 -0.0049095] False\n",
      "explore\n",
      "-> (4, 1) 0 -1.0 [-0.63378036 -0.00513463] False\n",
      "exploit\n",
      "-> (4, 1) 0 -1.0 [-0.6391036  -0.00532323] False\n",
      "exploit\n",
      "-> (4, 1) 0 -1.0 [-0.64457774 -0.00547418] False\n",
      "explore\n",
      "-> (4, 1) 2 -1.0 [-0.6481644  -0.00358663] False\n",
      "explore\n",
      "-> (4, 1) 0 -1.0 [-0.65183836 -0.00367398] False\n",
      "exploit\n",
      "-> (4, 1) 0 -1.0 [-0.6555741  -0.00373573] False\n",
      "exploit\n",
      "-> (4, 1) 0 -1.0 [-0.6593457  -0.00377157] False\n",
      "exploit\n",
      "-> (4, 1) 0 -1.0 [-0.66312706 -0.00378138] False\n",
      "explore\n",
      "-> (4, 1) 0 -1.0 [-0.6668923  -0.00376521] False\n",
      "explore\n",
      "-> (4, 1) 2 -1.0 [-0.6686156  -0.00172331] False\n",
      "explore\n",
      "-> (4, 1) 0 -1.0 [-0.6702852  -0.00166967] False\n",
      "explore\n",
      "-> (4, 1) 0 -1.0 [-0.6718899  -0.00160468] False\n",
      "exploit\n",
      "-> (4, 1) 0 -1.0 [-0.67341876 -0.00152882] False\n",
      "exploit\n",
      "-> (4, 1) 0 -1.0 [-0.6748614  -0.00144263] False\n",
      "explore\n",
      "-> (4, 1) 2 -1.0 [-6.7420805e-01  6.5330695e-04] False\n",
      "exploit\n",
      "-> (4, 1) 0 -1.0 [-0.6734632   0.00074483] False\n",
      "exploit\n",
      "-> (4, 1) 0 -1.0 [-0.6726319   0.00083133] False\n",
      "exploit\n",
      "-> (4, 1) 0 -1.0 [-0.6717197   0.00091221] False\n",
      "explore\n",
      "-> (4, 1) 1 -1.0 [-0.66973275  0.00198692] False\n",
      "exploit\n",
      "-> (4, 1) 0 -1.0 [-0.6676846   0.00204815] False\n",
      "exploit\n",
      "-> (4, 1) 0 -1.0 [-0.66558915  0.00209546] False\n",
      "explore\n",
      "-> (4, 1) 2 -1.0 [-0.6614607   0.00412847] False\n",
      "explore\n",
      "-> (4, 1) 1 -1.0 [-0.6563275   0.00513321] False\n",
      "explore\n",
      "-> (4, 1) 2 -1.0 [-0.64922494  0.00710257] False\n",
      "explore\n",
      "-> (4, 1) 2 -1.0 [-0.6402023   0.00902262] False\n",
      "exploit\n",
      "-> (4, 1) 0 -1.0 [-0.63132286  0.00887942] False\n",
      "exploit\n",
      "-> (4, 1) 0 -1.0 [-0.6226495   0.00867336] False\n",
      "explore\n",
      "-> (4, 1) 2 -1.0 [-0.6122441   0.01040536] False\n",
      "exploit\n",
      "-> (4, 1) 0 -1.0 [-0.60218173  0.01006239] False\n",
      "explore\n",
      "-> (4, 1) 0 -1.0 [-0.59253544  0.00964632] False\n",
      "exploit\n",
      "-> (4, 1) 0 -1.0 [-0.58337575  0.00915967] False\n",
      "explore\n",
      "-> (4, 1) 2 -1.0 [-0.5727702   0.01060559] False\n",
      "explore\n",
      "-> (4, 1) 2 -1.0 [-0.5607971   0.01197304] False\n",
      "explore\n",
      "-> (4, 1) 2 -1.0 [-0.5475457   0.01325145] False\n",
      "exploit\n",
      "-> (5, 1) 0 -1.0 [-0.53511477  0.0124309 ] False\n",
      "explore\n",
      "-> (5, 1) 1 -1.0 [-0.5225975   0.01251725] False\n",
      "exploit\n"
     ]
    },
    {
     "ename": "KeyboardInterrupt",
     "evalue": "",
     "output_type": "error",
     "traceback": [
      "\u001b[1;31m---------------------------------------------------------------------------\u001b[0m",
      "\u001b[1;31mKeyboardInterrupt\u001b[0m                         Traceback (most recent call last)",
      "\u001b[1;32mc:\\Users\\somme\\Desktop\\IA\\MountainCar\\mountaincar.ipynb Cell 10\u001b[0m in \u001b[0;36m<cell line: 4>\u001b[1;34m()\u001b[0m\n\u001b[0;32m      <a href='vscode-notebook-cell:/c%3A/Users/somme/Desktop/IA/MountainCar/mountaincar.ipynb#X12sZmlsZQ%3D%3D?line=4'>5</a>\u001b[0m state \u001b[39m=\u001b[39m get_state(obs)\n\u001b[0;32m      <a href='vscode-notebook-cell:/c%3A/Users/somme/Desktop/IA/MountainCar/mountaincar.ipynb#X12sZmlsZQ%3D%3D?line=5'>6</a>\u001b[0m action \u001b[39m=\u001b[39m epsilon_greedy_policy(state, Q, \u001b[39m0.5\u001b[39m)\n\u001b[1;32m----> <a href='vscode-notebook-cell:/c%3A/Users/somme/Desktop/IA/MountainCar/mountaincar.ipynb#X12sZmlsZQ%3D%3D?line=6'>7</a>\u001b[0m obs, reward, done, _ \u001b[39m=\u001b[39m env\u001b[39m.\u001b[39;49mstep(action)\n\u001b[0;32m      <a href='vscode-notebook-cell:/c%3A/Users/somme/Desktop/IA/MountainCar/mountaincar.ipynb#X12sZmlsZQ%3D%3D?line=7'>8</a>\u001b[0m \u001b[39mprint\u001b[39m(\u001b[39m'\u001b[39m\u001b[39m->\u001b[39m\u001b[39m'\u001b[39m, state, action, reward, obs, done)\n",
      "File \u001b[1;32mc:\\Users\\somme\\Desktop\\IA\\MountainCar\\MountainCarEnv.py:68\u001b[0m, in \u001b[0;36mMountainCarEnv.step\u001b[1;34m(self, action)\u001b[0m\n\u001b[0;32m     66\u001b[0m \u001b[39mself\u001b[39m\u001b[39m.\u001b[39mstate \u001b[39m=\u001b[39m (position, velocity)\n\u001b[0;32m     67\u001b[0m \u001b[39mif\u001b[39;00m \u001b[39mself\u001b[39m\u001b[39m.\u001b[39mrender_mode \u001b[39m==\u001b[39m \u001b[39m\"\u001b[39m\u001b[39mhuman\u001b[39m\u001b[39m\"\u001b[39m:\n\u001b[1;32m---> 68\u001b[0m     \u001b[39mself\u001b[39;49m\u001b[39m.\u001b[39;49mrender()\n\u001b[0;32m     69\u001b[0m \u001b[39mreturn\u001b[39;00m \u001b[39mself\u001b[39m\u001b[39m.\u001b[39m_get_observation(), reward, terminated, {}\n",
      "File \u001b[1;32mc:\\Users\\somme\\Desktop\\IA\\MountainCar\\MountainCarEnv.py:188\u001b[0m, in \u001b[0;36mMountainCarEnv.render\u001b[1;34m(self)\u001b[0m\n\u001b[0;32m    186\u001b[0m \u001b[39mif\u001b[39;00m \u001b[39mself\u001b[39m\u001b[39m.\u001b[39mrender_mode \u001b[39m==\u001b[39m \u001b[39m\"\u001b[39m\u001b[39mhuman\u001b[39m\u001b[39m\"\u001b[39m:\n\u001b[0;32m    187\u001b[0m     pygame\u001b[39m.\u001b[39mevent\u001b[39m.\u001b[39mpump()\n\u001b[1;32m--> 188\u001b[0m     \u001b[39mself\u001b[39;49m\u001b[39m.\u001b[39;49mclock\u001b[39m.\u001b[39;49mtick(\u001b[39mself\u001b[39;49m\u001b[39m.\u001b[39;49mmetadata[\u001b[39m\"\u001b[39;49m\u001b[39mrender_fps\u001b[39;49m\u001b[39m\"\u001b[39;49m])\n\u001b[0;32m    189\u001b[0m     pygame\u001b[39m.\u001b[39mdisplay\u001b[39m.\u001b[39mflip()\n\u001b[0;32m    191\u001b[0m \u001b[39melif\u001b[39;00m \u001b[39mself\u001b[39m\u001b[39m.\u001b[39mrender_mode \u001b[39m==\u001b[39m \u001b[39m\"\u001b[39m\u001b[39mrgb_array\u001b[39m\u001b[39m\"\u001b[39m:\n",
      "\u001b[1;31mKeyboardInterrupt\u001b[0m: "
     ]
    }
   ],
   "source": [
    "obs = env.reset()\n",
    "print(obs)\n",
    "done = False\n",
    "while not done:\n",
    "    state = get_state(obs)\n",
    "    action = epsilon_greedy_policy(state, Q, 0.5)\n",
    "    obs, reward, done, _ = env.step(action)\n",
    "    print('->', state, action, reward, obs, done)"
   ]
  }
 ],
 "metadata": {
  "kernelspec": {
   "display_name": "Python 3",
   "language": "python",
   "name": "python3"
  },
  "language_info": {
   "codemirror_mode": {
    "name": "ipython",
    "version": 3
   },
   "file_extension": ".py",
   "mimetype": "text/x-python",
   "name": "python",
   "nbconvert_exporter": "python",
   "pygments_lexer": "ipython3",
   "version": "3.9.12"
  },
  "orig_nbformat": 4
 },
 "nbformat": 4,
 "nbformat_minor": 2
}
