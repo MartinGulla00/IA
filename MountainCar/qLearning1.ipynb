{
 "cells": [
  {
   "cell_type": "code",
   "execution_count": 3,
   "metadata": {},
   "outputs": [
    {
     "name": "stderr",
     "output_type": "stream",
     "text": [
      "C:\\Users\\somme\\AppData\\Local\\Temp\\ipykernel_8880\\2959260509.py:7: DeprecationWarning: `np.int` is a deprecated alias for the builtin `int`. To silence this warning, use `int` by itself. Doing this will not modify any behavior and is safe. When replacing `np.int`, you may wish to use e.g. `np.int64` or `np.int32` to specify the precision. If you wish to review your current use, check the release note link for additional information.\n",
      "Deprecated in NumPy 1.20; for more details and guidance: https://numpy.org/devdocs/release/1.20.0-notes.html#deprecations\n",
      "  return tuple(ds.astype(np.int))\n"
     ]
    },
    {
     "name": "stdout",
     "output_type": "stream",
     "text": [
      "Episode: 0, Average Reward: -500.0\n",
      "Episode: 100, Average Reward: -499.15\n",
      "Episode: 200, Average Reward: -478.73\n",
      "Episode: 300, Average Reward: -438.57\n",
      "Episode: 400, Average Reward: -377.67\n",
      "Episode: 500, Average Reward: -285.21\n",
      "Episode: 600, Average Reward: -264.34\n",
      "Episode: 700, Average Reward: -243.67\n",
      "Episode: 800, Average Reward: -223.11\n",
      "Episode: 900, Average Reward: -232.11\n"
     ]
    },
    {
     "data": {
      "image/png": "[encoded data removed]",
      "text/plain": [
       "<Figure size 432x288 with 1 Axes>"
      ]
     },
     "metadata": {
      "needs_background": "light"
     },
     "output_type": "display_data"
    }
   ],
   "source": [
    "import numpy as np\n",
    "import matplotlib.pyplot as plt\n",
    "from MountainCarEnv import MountainCarEnv\n",
    "\n",
    "def discrete_state(state):\n",
    "    ds = (state - env.observation_space.low) / discrete_os_win_size\n",
    "    return tuple(ds.astype(np.int))\n",
    "\n",
    "env = MountainCarEnv(render_mode=\"rgb_array\")\n",
    "lr = 0.1\n",
    "gamma = 0.95\n",
    "num_episodes = 1000\n",
    "display_interval = 100\n",
    "discrete_size = [20, 20]\n",
    "discrete_os_win_size = (env.observation_space.high - env.observation_space.low) / discrete_size\n",
    "\n",
    "# Exploration settings\n",
    "eps = 0.5\n",
    "start_eps_decay = 1\n",
    "end_eps_decay = num_episodes // 2\n",
    "eps_decay_val = eps / (end_eps_decay - start_eps_decay)\n",
    "\n",
    "q_table = np.random.uniform(low=-2, high=0, size=(discrete_size + [env.action_space.n]))\n",
    "\n",
    "rewards = []\n",
    "avg_rewards = []\n",
    "\n",
    "for ep in range(num_episodes):\n",
    "    ds = discrete_state(env.reset())\n",
    "    finished = False\n",
    "    ep_rewards = 0\n",
    "\n",
    "    while not finished:\n",
    "        if np.random.random() > eps:\n",
    "            act = np.argmax(q_table[ds])\n",
    "        else:\n",
    "            act = np.random.randint(0, env.action_space.n)\n",
    "\n",
    "        next_state, rew, finished, _ = env.step(act)\n",
    "        ep_rewards += rew\n",
    "        next_ds = discrete_state(next_state)\n",
    "\n",
    "        if not finished:\n",
    "            max_next_q = np.max(q_table[next_ds])\n",
    "            current_q = q_table[ds + (act,)]\n",
    "            updated_q = (1 - lr) * current_q + lr * (rew + gamma * max_next_q)\n",
    "            q_table[ds + (act,)] = updated_q\n",
    "        elif next_state[0] >= env.goal_position:\n",
    "            q_table[ds + (act,)] = 0\n",
    "\n",
    "        ds = next_ds\n",
    "\n",
    "    rewards.append(ep_rewards)\n",
    "\n",
    "    if end_eps_decay >= ep >= start_eps_decay:\n",
    "        eps -= eps_decay_val\n",
    "\n",
    "    if ep % display_interval == 0:\n",
    "        avg_reward = np.mean(rewards[-display_interval:])\n",
    "        avg_rewards.append(avg_reward)\n",
    "        print(f\"Episode: {ep}, Average Reward: {avg_reward}\")\n",
    "\n",
    "env.close()\n",
    "\n",
    "plt.plot(np.arange(0, num_episodes, display_interval), avg_rewards)\n",
    "plt.xlabel(\"Episodes\")\n",
    "plt.ylabel(\"Average Rewards\")\n",
    "plt.title(\"Average Rewards vs Episodes\")\n",
    "plt.show()"
   ]
  },
  {
   "cell_type": "code",
   "execution_count": null,
   "metadata": {},
   "outputs": [],
   "source": [
    "# Número de episodios de prueba\n",
    "env = MountainCarEnv(render_mode=\"human\")\n",
    "\n",
    "# Test the learned Q-table\n",
    "test_episodes = 5\n",
    "\n",
    "for episode in range(test_episodes):\n",
    "    ds = discrete_state(env.reset())\n",
    "    finished = False\n",
    "    step = 0\n",
    "\n",
    "    print(f\"Test Episode {episode + 1}\")\n",
    "\n",
    "    while not finished:\n",
    "        action = np.argmax(q_table[ds])\n",
    "        next_state, _, finished, _ = env.step(action)\n",
    "        next_ds = discrete_state(next_state)\n",
    "        env.render()\n",
    "        ds = next_ds\n",
    "        step += 1\n",
    "\n",
    "    print(f\"Episode {episode + 1} finished in {step} steps\")\n",
    "\n",
    "env.close()\n",
    "\n",
    "# Plot the average rewards vs episodes\n",
    "plt.plot(np.arange(0, num_episodes, display_interval), avg_rewards)\n",
    "plt.xlabel(\"Episodes\")\n",
    "plt.ylabel(\"Average Rewards\")\n",
    "plt.title(\"Average Rewards vs Episodes\")\n",
    "plt.show()"
   ]
  }
 ],
 "metadata": {
  "kernelspec": {
   "display_name": "base",
   "language": "python",
   "name": "python3"
  },
  "language_info": {
   "codemirror_mode": {
    "name": "ipython",
    "version": 3
   },
   "file_extension": ".py",
   "mimetype": "text/x-python",
   "name": "python",
   "nbconvert_exporter": "python",
   "pygments_lexer": "ipython3",
   "version": "3.9.12"
  },
  "orig_nbformat": 4
 },
 "nbformat": 4,
 "nbformat_minor": 2
}
