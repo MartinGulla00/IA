{
 "cells": [
  {
   "cell_type": "code",
   "execution_count": null,
   "id": "086e05c2",
   "metadata": {},
   "outputs": [],
   "source": [
    "from connect_four_env import ConnectFourBaseEnv\n",
    "from agent import InputAgent\n",
    "from agent import ExpectimaxAgent\n",
    "from agent import QLearningAgent"
   ]
  },
  {
   "cell_type": "code",
   "execution_count": null,
   "id": "6867ae7a",
   "metadata": {},
   "outputs": [],
   "source": [
    "env = ConnectFourBaseEnv()\n",
    "env.action_space"
   ]
  },
  {
   "cell_type": "code",
   "execution_count": null,
   "id": "fd9d7ee8",
   "metadata": {},
   "outputs": [],
   "source": [
    "input_agent = InputAgent()\n",
    "expectimax_agent = ExpectimaxAgent(1, 3)\n",
    "q_learning_agent = QLearningAgent((6, 7), 2, 0.1, 0.9, 0.9)  #tamaño del tablero , (2= \"X\" ; 1 = \"O \"), tasa de aprendizaje, factor de descuento, epsilon inicial para el equilibrio entre la exploracion y la explotacion\n",
    "q_learning_agent.load_q_table('q_table.pkl')\n"
   ]
  },
  {
   "cell_type": "code",
   "execution_count": null,
   "id": "282a81ce",
   "metadata": {},
   "outputs": [],
   "source": [
    "from play import play_vs_other_agent, play_vs_loaded_agent\n",
    "\n",
    "# play_vs_loaded_agent(env, agent=expectimax_agent)\n",
    "play_vs_loaded_agent(env, agent=q_learning_agent)"
   ]
  },
  {
   "cell_type": "code",
   "execution_count": null,
   "id": "9cdd3c70",
   "metadata": {},
   "outputs": [],
   "source": [
    "q_learning_agent.train(150000)"
   ]
  },
  {
   "cell_type": "code",
   "execution_count": null,
   "id": "84cce5d7",
   "metadata": {},
   "outputs": [],
   "source": [
    "play_vs_other_agent(env, agent1=input_agent, agent2=q_learning_agent)"
   ]
  }
 ],
 "metadata": {
  "kernelspec": {
   "display_name": "Python 3 (ipykernel)",
   "language": "python",
   "name": "python3"
  },
  "language_info": {
   "codemirror_mode": {
    "name": "ipython",
    "version": 3
   },
   "file_extension": ".py",
   "mimetype": "text/x-python",
   "name": "python",
   "nbconvert_exporter": "python",
   "pygments_lexer": "ipython3",
   "version": "3.10.0"
  }
 },
 "nbformat": 4,
 "nbformat_minor": 5
}
